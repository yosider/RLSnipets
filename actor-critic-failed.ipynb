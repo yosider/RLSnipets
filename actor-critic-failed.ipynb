{
 "cells": [
  {
   "cell_type": "markdown",
   "metadata": {},
   "source": [
    "Actor Critic with OpenAI Gym\n",
    "\n",
    "http://www.rage.net/~greg/2016-07-05-ActorCritic-with-OpenAI-Gym.html"
   ]
  },
  {
   "cell_type": "code",
   "execution_count": 9,
   "metadata": {},
   "outputs": [
    {
     "name": "stdout",
     "output_type": "stream",
     "text": [
      "Populating the interactive namespace from numpy and matplotlib\n"
     ]
    }
   ],
   "source": [
    "%pylab inline\n",
    "\n",
    "import logging\n",
    "logger = logging.getLogger()\n",
    "logger.setLevel(logging.ERROR)\n",
    "\n",
    "from IPython.display import clear_output\n",
    "import time\n",
    "import numpy as np\n",
    "import gym\n",
    "\n",
    "from keras.models import Sequential\n",
    "from keras.layers import Dense, Dropout, Activation\n",
    "from keras.optimizers import RMSprop, SGD"
   ]
  },
  {
   "cell_type": "markdown",
   "metadata": {},
   "source": [
    "Environment: 'Frozen Lake' of a version which does not include slippery ice. "
   ]
  },
  {
   "cell_type": "code",
   "execution_count": 2,
   "metadata": {},
   "outputs": [
    {
     "name": "stderr",
     "output_type": "stream",
     "text": [
      "[2017-12-18 20:55:38,558] Making new env: FrozenLakeNonskid8x8-v0\n"
     ]
    }
   ],
   "source": [
    "# Create a non-skid version of Frozen Lake\n",
    "\n",
    "from gym.envs.registration import register, spec\n",
    "\n",
    "MY_ENV_NAME = 'FrozenLakeNonskid8x8-v0'\n",
    "\n",
    "try:\n",
    "    spec(MY_ENV_NAME)\n",
    "except:\n",
    "    register(\n",
    "        id = MY_ENV_NAME,\n",
    "        entry_point = 'gym.envs.toy_text:FrozenLakeEnv',\n",
    "        kwargs = {'map_name': '8x8', 'is_slippery': False},\n",
    "        timestep_limit = 100,\n",
    "        reward_threshold=0.78,  # optimum = 0.8196\n",
    "    )\n",
    "    \n",
    "env = gym.make(MY_ENV_NAME)"
   ]
  },
  {
   "cell_type": "code",
   "execution_count": 3,
   "metadata": {},
   "outputs": [],
   "source": [
    "# helpers\n",
    "\n",
    "def to_onehot(size, value):\n",
    "    onehot = np.zeros((size))\n",
    "    onehot[value] = 1.0\n",
    "    return onehot\n",
    "\n",
    "OBSERVATION_SPACE = env.observation_space.n\n",
    "ACTION_SPACE = env.action_space.n"
   ]
  },
  {
   "cell_type": "code",
   "execution_count": 6,
   "metadata": {},
   "outputs": [],
   "source": [
    "# Actor\n",
    "\n",
    "actor = Sequential()\n",
    "\n",
    "actor.add(Dense(164, kernel_initializer='lecun_uniform', input_shape=(OBSERVATION_SPACE,)))\n",
    "actor.add(Activation('relu'))\n",
    "\n",
    "actor.add(Dense(150, kernel_initializer='lecun_uniform'))\n",
    "actor.add(Activation('relu'))\n",
    "\n",
    "actor.add(Dense(ACTION_SPACE, kernel_initializer='lecun_uniform'))\n",
    "actor.add(Activation('linear'))\n",
    "\n",
    "actor_optimizer = SGD(lr=0.1, decay=1e-6, momentum=0.9, nesterov=True)\n",
    "actor.compile(loss='mse', optimizer=actor_optimizer)"
   ]
  },
  {
   "cell_type": "code",
   "execution_count": 8,
   "metadata": {},
   "outputs": [],
   "source": [
    "# critic\n",
    "\n",
    "critic = Sequential()\n",
    "\n",
    "critic.add(Dense(164, kernel_initializer='lecun_uniform', input_shape=(OBSERVATION_SPACE,)))\n",
    "critic.add(Activation('relu'))\n",
    "\n",
    "critic.add(Dense(150, kernel_initializer='lecun_uniform'))\n",
    "critic.add(Activation('relu'))\n",
    "\n",
    "critic.add(Dense(1, kernel_initializer='lecun_uniform'))\n",
    "critic.add(Activation('linear'))\n",
    "\n",
    "critic_optimizer = SGD(lr=0.1, decay=1e-6, momentum=0.9, nesterov=True)\n",
    "critic.compile(loss='mse', optimizer=critic_optimizer)"
   ]
  },
  {
   "cell_type": "code",
   "execution_count": 38,
   "metadata": {},
   "outputs": [],
   "source": [
    "# Plot out the critic's estimation of state value.\n",
    "\n",
    "def plot_value(initial_state):\n",
    "    # record current value on this grid.\n",
    "    values_grid = np.zeros(initial_state.shape)\n",
    "    \n",
    "    for x in range(grid_size):\n",
    "        for y in range(grid_size):\n",
    "            grid = initial_state.copy()\n",
    "            grid[x,y] = 1  # agent position\n",
    "            value = critic.predict(grid.reshape(1, OBSERVATION_SPACE))\n",
    "            values_grid[x,y] = value\n",
    "            \n",
    "    pylab.pcolor(values_grid)\n",
    "    pylab.title(\"Estimated Values\")\n",
    "    pylab.colorbar()\n",
    "    pylab.xlabel(\"X\")\n",
    "    pylab.ylabel(\"Y\")\n",
    "    pylab.gca().invert_yaxis()\n",
    "    pylab.draw()"
   ]
  },
  {
   "cell_type": "code",
   "execution_count": 34,
   "metadata": {},
   "outputs": [],
   "source": [
    "GRID_SIZE = np.sqrt(OBSERVATION_SPACE).astype(np.int64)\n",
    "TEST_GRID = np.zeros((GRID_SIZE, GRID_SIZE))"
   ]
  },
  {
   "cell_type": "code",
   "execution_count": 39,
   "metadata": {},
   "outputs": [
    {
     "name": "stdout",
     "output_type": "stream",
     "text": [
      "\n",
      "\u001b[41mS\u001b[0mFFFFFFF\n",
      "FFFFFFFF\n",
      "FFFHFFFF\n",
      "FFFFFHFF\n",
      "FFFHFFFF\n",
      "FHHFFFHF\n",
      "FHFFHFHF\n",
      "FFFHFFFG\n",
      "(1, 1)\n"
     ]
    },
    {
     "data": {
      "image/png": "[encoded data removed]",
      "text/plain": [
       "<matplotlib.figure.Figure at 0x7f090c0ac240>"
      ]
     },
     "metadata": {},
     "output_type": "display_data"
    }
   ],
   "source": [
    "env.reset()\n",
    "env.render()\n",
    "\n",
    "plot_value(TEST_GRID)"
   ]
  },
  {
   "cell_type": "code",
   "execution_count": 33,
   "metadata": {},
   "outputs": [
    {
     "name": "stdout",
     "output_type": "stream",
     "text": [
      "Initializing critic network...\n",
      "Initializing done.\n"
     ]
    }
   ],
   "source": [
    "def initialize_critic(epochs=100):\n",
    "    # make all the critic output ~ zero.\n",
    "    for epoch in range(epochs):\n",
    "        for x in range(OBSERVATION_SPACE):            \n",
    "            X = to_onehot(OBSERVATION_SPACE, x)\n",
    "            Y = np.zeros([1])\n",
    "            \n",
    "            X_train = np.array([X])\n",
    "            Y_train = np.array([Y])\n",
    "            \n",
    "            critic.fit(X_train, Y_train, batch_size=1, epochs=1, verbose=0)\n",
    "            \n",
    "print(\"Initializing critic network...\")\n",
    "sys.stdout.flush()\n",
    "initialize_critic()\n",
    "print(\"Initializing done.\")"
   ]
  },
  {
   "cell_type": "code",
   "execution_count": 35,
   "metadata": {},
   "outputs": [
    {
     "data": {
      "image/png": "[encoded data removed]",
      "text/plain": [
       "<matplotlib.figure.Figure at 0x7f08f9f73c50>"
      ]
     },
     "metadata": {},
     "output_type": "display_data"
    }
   ],
   "source": [
    "plot_value(TEST_GRID)"
   ]
  },
  {
   "cell_type": "code",
   "execution_count": null,
   "metadata": {},
   "outputs": [],
   "source": [
    "import random\n",
    "import time\n",
    "\n",
    "def trainer(epochs=1000, batch_size=40, gamma=0.975, epsilon=1, min_epsilon=0.1, buffer=80):\n",
    "    \n",
    "    wins = 0\n",
    "    losses = 0\n",
    "    \n",
    "    # Replay buffers\n",
    "    actor_replay = []\n",
    "    critic_replay = []\n",
    "    \n",
    "    for i in range(epochs):\n",
    "        obs = env.reset()\n",
    "        done = False\n",
    "        reward = 0\n",
    "        info = None\n",
    "        move_counter = 0\n",
    "        \n",
    "        while not done:\n",
    "            state = to_onehot(OBSERVATION_SPACE, obs)\n",
    "            reward = reward\n",
    "            value = critic.predict(state.reshape(1, OBSERVATION_SPACE)) # add batch_size dim\n",
    "            \n",
    "            # choose next action\n",
    "            if random.random() < epsilon:\n",
    "                action = np.random.randint(0, ACTION_SPACE)\n",
    "            else:\n",
    "                pi = actor.predict(state.reshape(1, OBSERVATION_SPACE))\n",
    "                pi /= np.sum(pi)\n",
    "                print('sum pi =', sum(pi))\n",
    "                pi = np.cumsum(pi)\n",
    "                rand = np.random.rand()\n",
    "                action = np.reshape(np.argwhere(rand<pi))[0]\n",
    "                \n",
    "            # take action, observe new state\n",
    "            new_obs, new_reward, done, info = env.step(action)\n",
    "            \n",
    "            new_state = to_onehot(OBSERVATION_SPACE, new_obs)\n",
    "            new_value = critic.predict(new_state.reshape(1, OBSERVATION_SPACE))\n",
    "            \n",
    "            # calc target\n",
    "            if not done:\n",
    "                target = reward + gamma * new_value\n",
    "            else:\n",
    "                target = reward + gamma * new_reward\n",
    "                \n",
    "            # keep the estimated best value in current state\n",
    "            # in the critic replay\n",
    "            # if gamma*val > target, is it OK?\n",
    "            best_value = max(gamma*value, target)\n",
    "            critic_replay.append([state, best_value])\n",
    "            \n",
    "            if done:\n",
    "                critic_replay.append([new_state, float(new_reward)])\n",
    "                \n",
    "            # keep the value advantage in the actor replay\n",
    "            # if advantage > 0, we encourage the action.\n",
    "            # or advantage < 0, we discourage the action.\n",
    "            value_advantage = new_value - value\n",
    "            actor_replay.append([state, action, value_advantage])\n",
    "            \n",
    "            # Trim buffers\n",
    "            while len(critic_replay) > buffer:\n",
    "                critic_replay.pop(0)\n",
    "            while len(actor_replay) > buffer:\n",
    "                actor_replay.pop(0)\n",
    "                \n",
    "            # Critic training!\n",
    "            if len(critic_replay) >= buffer:\n",
    "                minibatch = random.sample(critic_replay, batch_size)\n",
    "                X_train = []\n",
    "                Y_train = []\n",
    "                for s, val in minibatch:\n",
    "                    X_train.append(s) # s.shape = (OBS_SPACE, )\n",
    "                    Y_train.append(val.reshape((1,))) # originally (1,1)\n",
    "                X_train = np.array(X_train)\n",
    "                Y_train = np.array(Y_train)\n",
    "                critic.fit(X_train, Y_train, batch_size=batch_size, epochs=1, verbose=0)\n",
    "                \n",
    "            # Actor training!\n",
    "            if len(actor_replay) >= buffer:\n",
    "                minibatch = random.sample(actor_replay, batch_size)\n",
    "                X_train = []\n",
    "                Y_train = []\n",
    "                for s, a, adv in minibatch:\n",
    "                    X_train.append(s) # s.shape = (OBS_SPACE, )\n",
    "                    \n",
    "                    old_Q = actor_model.predict(s.reshape(1, OBSERVATION_SPACE))\n",
    "                    old_Q = old_Q[0][a] = adv\n",
    "                    \n",
    "                    ##　どうやら怪しいため中止\n",
    "                    \n",
    "                    \n",
    "                    Y_train.append(val.reshape((1,))) # originally (1,1)\n",
    "                X_train = np.array(X_train)\n",
    "                Y_train = np.array(Y_train)\n",
    "                critic.fit(X_train, Y_train, batch_size=batch_size, epochs=1, verbose=0)\n",
    "                \n",
    "    \n",
    "                    \n",
    "                    \n",
    "                    \n",
    "            \n",
    "                \n",
    "            \n",
    "                \n",
    "            \n",
    "    "
   ]
  }
 ],
 "metadata": {
  "kernelspec": {
   "display_name": "Python [conda env:ML]",
   "language": "python",
   "name": "conda-env-ML-py"
  },
  "language_info": {
   "codemirror_mode": {
    "name": "ipython",
    "version": 3
   },
   "file_extension": ".py",
   "mimetype": "text/x-python",
   "name": "python",
   "nbconvert_exporter": "python",
   "pygments_lexer": "ipython3",
   "version": "3.5.4"
  }
 },
 "nbformat": 4,
 "nbformat_minor": 2
}
